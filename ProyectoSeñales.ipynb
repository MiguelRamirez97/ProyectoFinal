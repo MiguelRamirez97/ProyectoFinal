{
  "nbformat": 4,
  "nbformat_minor": 0,
  "metadata": {
    "colab": {
      "name": "ProyectoSeñales.ipynb",
      "provenance": [],
      "collapsed_sections": [],
      "include_colab_link": true
    },
    "kernelspec": {
      "name": "python3",
      "display_name": "Python 3"
    }
  },
  "cells": [
    {
      "cell_type": "markdown",
      "metadata": {
        "id": "view-in-github",
        "colab_type": "text"
      },
      "source": [
        "<a href=\"https://colab.research.google.com/github/MiguelRamirez97/ProyectoFinal/blob/main/ProyectoSe%C3%B1ales.ipynb\" target=\"_parent\"><img src=\"https://colab.research.google.com/assets/colab-badge.svg\" alt=\"Open In Colab\"/></a>"
      ]
    },
    {
      "cell_type": "markdown",
      "metadata": {
        "id": "8zixYiH5hsvw"
      },
      "source": [
        "Trabajo Final tratamiento señales 3 \r\n",
        "\r\n",
        "Miguel Angel Ramirez Perez\r\n",
        "\r\n",
        "David Urrego Zapata\r\n",
        "\r\n",
        "Universidad de Antioquia\r\n",
        "\r\n",
        "Facultad de ingenieria-Telecomunicaciones"
      ]
    },
    {
      "cell_type": "code",
      "metadata": {
        "colab": {
          "base_uri": "https://localhost:8080/",
          "height": 419
        },
        "id": "CU6iGY0UOzbm",
        "outputId": "2fdabe78-cf8b-4f40-8730-5b68c2fe9ec7"
      },
      "source": [
        "### IMPORTAR LIBRERÍAS ###\r\n",
        "import pandas as pd\r\n",
        "### IMPORTAR LOS DATOS ###\r\n",
        "data = pd.read_csv('phpgNaXZe.csv')\r\n",
        "data"
      ],
      "execution_count": 1,
      "outputs": [
        {
          "output_type": "execute_result",
          "data": {
            "text/html": [
              "<div>\n",
              "<style scoped>\n",
              "    .dataframe tbody tr th:only-of-type {\n",
              "        vertical-align: middle;\n",
              "    }\n",
              "\n",
              "    .dataframe tbody tr th {\n",
              "        vertical-align: top;\n",
              "    }\n",
              "\n",
              "    .dataframe thead th {\n",
              "        text-align: right;\n",
              "    }\n",
              "</style>\n",
              "<table border=\"1\" class=\"dataframe\">\n",
              "  <thead>\n",
              "    <tr style=\"text-align: right;\">\n",
              "      <th></th>\n",
              "      <th>V1</th>\n",
              "      <th>V2</th>\n",
              "      <th>V3</th>\n",
              "      <th>V4</th>\n",
              "      <th>V5</th>\n",
              "      <th>V6</th>\n",
              "      <th>V7</th>\n",
              "      <th>V8</th>\n",
              "      <th>V9</th>\n",
              "      <th>Class</th>\n",
              "    </tr>\n",
              "  </thead>\n",
              "  <tbody>\n",
              "    <tr>\n",
              "      <th>0</th>\n",
              "      <td>160</td>\n",
              "      <td>12.00</td>\n",
              "      <td>5.73</td>\n",
              "      <td>23.11</td>\n",
              "      <td>1</td>\n",
              "      <td>49</td>\n",
              "      <td>25.30</td>\n",
              "      <td>97.20</td>\n",
              "      <td>52</td>\n",
              "      <td>2</td>\n",
              "    </tr>\n",
              "    <tr>\n",
              "      <th>1</th>\n",
              "      <td>144</td>\n",
              "      <td>0.01</td>\n",
              "      <td>4.41</td>\n",
              "      <td>28.61</td>\n",
              "      <td>2</td>\n",
              "      <td>55</td>\n",
              "      <td>28.87</td>\n",
              "      <td>2.06</td>\n",
              "      <td>63</td>\n",
              "      <td>2</td>\n",
              "    </tr>\n",
              "    <tr>\n",
              "      <th>2</th>\n",
              "      <td>118</td>\n",
              "      <td>0.08</td>\n",
              "      <td>3.48</td>\n",
              "      <td>32.28</td>\n",
              "      <td>1</td>\n",
              "      <td>52</td>\n",
              "      <td>29.14</td>\n",
              "      <td>3.81</td>\n",
              "      <td>46</td>\n",
              "      <td>1</td>\n",
              "    </tr>\n",
              "    <tr>\n",
              "      <th>3</th>\n",
              "      <td>170</td>\n",
              "      <td>7.50</td>\n",
              "      <td>6.41</td>\n",
              "      <td>38.03</td>\n",
              "      <td>1</td>\n",
              "      <td>51</td>\n",
              "      <td>31.99</td>\n",
              "      <td>24.26</td>\n",
              "      <td>58</td>\n",
              "      <td>2</td>\n",
              "    </tr>\n",
              "    <tr>\n",
              "      <th>4</th>\n",
              "      <td>134</td>\n",
              "      <td>13.60</td>\n",
              "      <td>3.50</td>\n",
              "      <td>27.78</td>\n",
              "      <td>1</td>\n",
              "      <td>60</td>\n",
              "      <td>25.99</td>\n",
              "      <td>57.34</td>\n",
              "      <td>49</td>\n",
              "      <td>2</td>\n",
              "    </tr>\n",
              "    <tr>\n",
              "      <th>...</th>\n",
              "      <td>...</td>\n",
              "      <td>...</td>\n",
              "      <td>...</td>\n",
              "      <td>...</td>\n",
              "      <td>...</td>\n",
              "      <td>...</td>\n",
              "      <td>...</td>\n",
              "      <td>...</td>\n",
              "      <td>...</td>\n",
              "      <td>...</td>\n",
              "    </tr>\n",
              "    <tr>\n",
              "      <th>457</th>\n",
              "      <td>214</td>\n",
              "      <td>0.40</td>\n",
              "      <td>5.98</td>\n",
              "      <td>31.72</td>\n",
              "      <td>2</td>\n",
              "      <td>64</td>\n",
              "      <td>28.45</td>\n",
              "      <td>0.00</td>\n",
              "      <td>58</td>\n",
              "      <td>1</td>\n",
              "    </tr>\n",
              "    <tr>\n",
              "      <th>458</th>\n",
              "      <td>182</td>\n",
              "      <td>4.20</td>\n",
              "      <td>4.41</td>\n",
              "      <td>32.10</td>\n",
              "      <td>2</td>\n",
              "      <td>52</td>\n",
              "      <td>28.61</td>\n",
              "      <td>18.72</td>\n",
              "      <td>52</td>\n",
              "      <td>2</td>\n",
              "    </tr>\n",
              "    <tr>\n",
              "      <th>459</th>\n",
              "      <td>108</td>\n",
              "      <td>3.00</td>\n",
              "      <td>1.59</td>\n",
              "      <td>15.23</td>\n",
              "      <td>2</td>\n",
              "      <td>40</td>\n",
              "      <td>20.09</td>\n",
              "      <td>26.64</td>\n",
              "      <td>55</td>\n",
              "      <td>1</td>\n",
              "    </tr>\n",
              "    <tr>\n",
              "      <th>460</th>\n",
              "      <td>118</td>\n",
              "      <td>5.40</td>\n",
              "      <td>11.61</td>\n",
              "      <td>30.79</td>\n",
              "      <td>2</td>\n",
              "      <td>64</td>\n",
              "      <td>27.35</td>\n",
              "      <td>23.97</td>\n",
              "      <td>40</td>\n",
              "      <td>1</td>\n",
              "    </tr>\n",
              "    <tr>\n",
              "      <th>461</th>\n",
              "      <td>132</td>\n",
              "      <td>0.00</td>\n",
              "      <td>4.82</td>\n",
              "      <td>33.41</td>\n",
              "      <td>1</td>\n",
              "      <td>62</td>\n",
              "      <td>14.70</td>\n",
              "      <td>0.00</td>\n",
              "      <td>46</td>\n",
              "      <td>2</td>\n",
              "    </tr>\n",
              "  </tbody>\n",
              "</table>\n",
              "<p>462 rows × 10 columns</p>\n",
              "</div>"
            ],
            "text/plain": [
              "      V1     V2     V3     V4  V5  V6     V7     V8  V9  Class\n",
              "0    160  12.00   5.73  23.11   1  49  25.30  97.20  52      2\n",
              "1    144   0.01   4.41  28.61   2  55  28.87   2.06  63      2\n",
              "2    118   0.08   3.48  32.28   1  52  29.14   3.81  46      1\n",
              "3    170   7.50   6.41  38.03   1  51  31.99  24.26  58      2\n",
              "4    134  13.60   3.50  27.78   1  60  25.99  57.34  49      2\n",
              "..   ...    ...    ...    ...  ..  ..    ...    ...  ..    ...\n",
              "457  214   0.40   5.98  31.72   2  64  28.45   0.00  58      1\n",
              "458  182   4.20   4.41  32.10   2  52  28.61  18.72  52      2\n",
              "459  108   3.00   1.59  15.23   2  40  20.09  26.64  55      1\n",
              "460  118   5.40  11.61  30.79   2  64  27.35  23.97  40      1\n",
              "461  132   0.00   4.82  33.41   1  62  14.70   0.00  46      2\n",
              "\n",
              "[462 rows x 10 columns]"
            ]
          },
          "metadata": {
            "tags": []
          },
          "execution_count": 1
        }
      ]
    },
    {
      "cell_type": "code",
      "metadata": {
        "id": "mzpg7-z5PuDc",
        "colab": {
          "base_uri": "https://localhost:8080/",
          "height": 419
        },
        "outputId": "907ce570-f7c3-4a8a-c683-f4a7901b805d"
      },
      "source": [
        "#Colocar nombres a las columnas\r\n",
        "columnas = ['sbp','Tabaco','ldl','Adiposity','Familia','Tipo','Obesidad','Alcohol','Edad','Etiqueta']\r\n",
        "data.columns=columnas\r\n",
        "data"
      ],
      "execution_count": 2,
      "outputs": [
        {
          "output_type": "execute_result",
          "data": {
            "text/html": [
              "<div>\n",
              "<style scoped>\n",
              "    .dataframe tbody tr th:only-of-type {\n",
              "        vertical-align: middle;\n",
              "    }\n",
              "\n",
              "    .dataframe tbody tr th {\n",
              "        vertical-align: top;\n",
              "    }\n",
              "\n",
              "    .dataframe thead th {\n",
              "        text-align: right;\n",
              "    }\n",
              "</style>\n",
              "<table border=\"1\" class=\"dataframe\">\n",
              "  <thead>\n",
              "    <tr style=\"text-align: right;\">\n",
              "      <th></th>\n",
              "      <th>sbp</th>\n",
              "      <th>Tabaco</th>\n",
              "      <th>ldl</th>\n",
              "      <th>Adiposity</th>\n",
              "      <th>Familia</th>\n",
              "      <th>Tipo</th>\n",
              "      <th>Obesidad</th>\n",
              "      <th>Alcohol</th>\n",
              "      <th>Edad</th>\n",
              "      <th>Etiqueta</th>\n",
              "    </tr>\n",
              "  </thead>\n",
              "  <tbody>\n",
              "    <tr>\n",
              "      <th>0</th>\n",
              "      <td>160</td>\n",
              "      <td>12.00</td>\n",
              "      <td>5.73</td>\n",
              "      <td>23.11</td>\n",
              "      <td>1</td>\n",
              "      <td>49</td>\n",
              "      <td>25.30</td>\n",
              "      <td>97.20</td>\n",
              "      <td>52</td>\n",
              "      <td>2</td>\n",
              "    </tr>\n",
              "    <tr>\n",
              "      <th>1</th>\n",
              "      <td>144</td>\n",
              "      <td>0.01</td>\n",
              "      <td>4.41</td>\n",
              "      <td>28.61</td>\n",
              "      <td>2</td>\n",
              "      <td>55</td>\n",
              "      <td>28.87</td>\n",
              "      <td>2.06</td>\n",
              "      <td>63</td>\n",
              "      <td>2</td>\n",
              "    </tr>\n",
              "    <tr>\n",
              "      <th>2</th>\n",
              "      <td>118</td>\n",
              "      <td>0.08</td>\n",
              "      <td>3.48</td>\n",
              "      <td>32.28</td>\n",
              "      <td>1</td>\n",
              "      <td>52</td>\n",
              "      <td>29.14</td>\n",
              "      <td>3.81</td>\n",
              "      <td>46</td>\n",
              "      <td>1</td>\n",
              "    </tr>\n",
              "    <tr>\n",
              "      <th>3</th>\n",
              "      <td>170</td>\n",
              "      <td>7.50</td>\n",
              "      <td>6.41</td>\n",
              "      <td>38.03</td>\n",
              "      <td>1</td>\n",
              "      <td>51</td>\n",
              "      <td>31.99</td>\n",
              "      <td>24.26</td>\n",
              "      <td>58</td>\n",
              "      <td>2</td>\n",
              "    </tr>\n",
              "    <tr>\n",
              "      <th>4</th>\n",
              "      <td>134</td>\n",
              "      <td>13.60</td>\n",
              "      <td>3.50</td>\n",
              "      <td>27.78</td>\n",
              "      <td>1</td>\n",
              "      <td>60</td>\n",
              "      <td>25.99</td>\n",
              "      <td>57.34</td>\n",
              "      <td>49</td>\n",
              "      <td>2</td>\n",
              "    </tr>\n",
              "    <tr>\n",
              "      <th>...</th>\n",
              "      <td>...</td>\n",
              "      <td>...</td>\n",
              "      <td>...</td>\n",
              "      <td>...</td>\n",
              "      <td>...</td>\n",
              "      <td>...</td>\n",
              "      <td>...</td>\n",
              "      <td>...</td>\n",
              "      <td>...</td>\n",
              "      <td>...</td>\n",
              "    </tr>\n",
              "    <tr>\n",
              "      <th>457</th>\n",
              "      <td>214</td>\n",
              "      <td>0.40</td>\n",
              "      <td>5.98</td>\n",
              "      <td>31.72</td>\n",
              "      <td>2</td>\n",
              "      <td>64</td>\n",
              "      <td>28.45</td>\n",
              "      <td>0.00</td>\n",
              "      <td>58</td>\n",
              "      <td>1</td>\n",
              "    </tr>\n",
              "    <tr>\n",
              "      <th>458</th>\n",
              "      <td>182</td>\n",
              "      <td>4.20</td>\n",
              "      <td>4.41</td>\n",
              "      <td>32.10</td>\n",
              "      <td>2</td>\n",
              "      <td>52</td>\n",
              "      <td>28.61</td>\n",
              "      <td>18.72</td>\n",
              "      <td>52</td>\n",
              "      <td>2</td>\n",
              "    </tr>\n",
              "    <tr>\n",
              "      <th>459</th>\n",
              "      <td>108</td>\n",
              "      <td>3.00</td>\n",
              "      <td>1.59</td>\n",
              "      <td>15.23</td>\n",
              "      <td>2</td>\n",
              "      <td>40</td>\n",
              "      <td>20.09</td>\n",
              "      <td>26.64</td>\n",
              "      <td>55</td>\n",
              "      <td>1</td>\n",
              "    </tr>\n",
              "    <tr>\n",
              "      <th>460</th>\n",
              "      <td>118</td>\n",
              "      <td>5.40</td>\n",
              "      <td>11.61</td>\n",
              "      <td>30.79</td>\n",
              "      <td>2</td>\n",
              "      <td>64</td>\n",
              "      <td>27.35</td>\n",
              "      <td>23.97</td>\n",
              "      <td>40</td>\n",
              "      <td>1</td>\n",
              "    </tr>\n",
              "    <tr>\n",
              "      <th>461</th>\n",
              "      <td>132</td>\n",
              "      <td>0.00</td>\n",
              "      <td>4.82</td>\n",
              "      <td>33.41</td>\n",
              "      <td>1</td>\n",
              "      <td>62</td>\n",
              "      <td>14.70</td>\n",
              "      <td>0.00</td>\n",
              "      <td>46</td>\n",
              "      <td>2</td>\n",
              "    </tr>\n",
              "  </tbody>\n",
              "</table>\n",
              "<p>462 rows × 10 columns</p>\n",
              "</div>"
            ],
            "text/plain": [
              "     sbp  Tabaco    ldl  Adiposity  ...  Obesidad  Alcohol  Edad  Etiqueta\n",
              "0    160   12.00   5.73      23.11  ...     25.30    97.20    52         2\n",
              "1    144    0.01   4.41      28.61  ...     28.87     2.06    63         2\n",
              "2    118    0.08   3.48      32.28  ...     29.14     3.81    46         1\n",
              "3    170    7.50   6.41      38.03  ...     31.99    24.26    58         2\n",
              "4    134   13.60   3.50      27.78  ...     25.99    57.34    49         2\n",
              "..   ...     ...    ...        ...  ...       ...      ...   ...       ...\n",
              "457  214    0.40   5.98      31.72  ...     28.45     0.00    58         1\n",
              "458  182    4.20   4.41      32.10  ...     28.61    18.72    52         2\n",
              "459  108    3.00   1.59      15.23  ...     20.09    26.64    55         1\n",
              "460  118    5.40  11.61      30.79  ...     27.35    23.97    40         1\n",
              "461  132    0.00   4.82      33.41  ...     14.70     0.00    46         2\n",
              "\n",
              "[462 rows x 10 columns]"
            ]
          },
          "metadata": {
            "tags": []
          },
          "execution_count": 2
        }
      ]
    },
    {
      "cell_type": "code",
      "metadata": {
        "id": "bQCe9V9VP8-8",
        "colab": {
          "base_uri": "https://localhost:8080/",
          "height": 419
        },
        "outputId": "f107eb56-38c0-47cb-9b95-19a2993f4680"
      },
      "source": [
        "#Cambiar los datos de Familia y CHD en digitales\r\n",
        "from sklearn.preprocessing import LabelEncoder\r\n",
        "encoder = LabelEncoder()\r\n",
        "data['Familia']=encoder.fit_transform(data['Familia'])\r\n",
        "data['Etiqueta']=encoder.fit_transform(data['Etiqueta'])\r\n",
        "data"
      ],
      "execution_count": 3,
      "outputs": [
        {
          "output_type": "execute_result",
          "data": {
            "text/html": [
              "<div>\n",
              "<style scoped>\n",
              "    .dataframe tbody tr th:only-of-type {\n",
              "        vertical-align: middle;\n",
              "    }\n",
              "\n",
              "    .dataframe tbody tr th {\n",
              "        vertical-align: top;\n",
              "    }\n",
              "\n",
              "    .dataframe thead th {\n",
              "        text-align: right;\n",
              "    }\n",
              "</style>\n",
              "<table border=\"1\" class=\"dataframe\">\n",
              "  <thead>\n",
              "    <tr style=\"text-align: right;\">\n",
              "      <th></th>\n",
              "      <th>sbp</th>\n",
              "      <th>Tabaco</th>\n",
              "      <th>ldl</th>\n",
              "      <th>Adiposity</th>\n",
              "      <th>Familia</th>\n",
              "      <th>Tipo</th>\n",
              "      <th>Obesidad</th>\n",
              "      <th>Alcohol</th>\n",
              "      <th>Edad</th>\n",
              "      <th>Etiqueta</th>\n",
              "    </tr>\n",
              "  </thead>\n",
              "  <tbody>\n",
              "    <tr>\n",
              "      <th>0</th>\n",
              "      <td>160</td>\n",
              "      <td>12.00</td>\n",
              "      <td>5.73</td>\n",
              "      <td>23.11</td>\n",
              "      <td>0</td>\n",
              "      <td>49</td>\n",
              "      <td>25.30</td>\n",
              "      <td>97.20</td>\n",
              "      <td>52</td>\n",
              "      <td>1</td>\n",
              "    </tr>\n",
              "    <tr>\n",
              "      <th>1</th>\n",
              "      <td>144</td>\n",
              "      <td>0.01</td>\n",
              "      <td>4.41</td>\n",
              "      <td>28.61</td>\n",
              "      <td>1</td>\n",
              "      <td>55</td>\n",
              "      <td>28.87</td>\n",
              "      <td>2.06</td>\n",
              "      <td>63</td>\n",
              "      <td>1</td>\n",
              "    </tr>\n",
              "    <tr>\n",
              "      <th>2</th>\n",
              "      <td>118</td>\n",
              "      <td>0.08</td>\n",
              "      <td>3.48</td>\n",
              "      <td>32.28</td>\n",
              "      <td>0</td>\n",
              "      <td>52</td>\n",
              "      <td>29.14</td>\n",
              "      <td>3.81</td>\n",
              "      <td>46</td>\n",
              "      <td>0</td>\n",
              "    </tr>\n",
              "    <tr>\n",
              "      <th>3</th>\n",
              "      <td>170</td>\n",
              "      <td>7.50</td>\n",
              "      <td>6.41</td>\n",
              "      <td>38.03</td>\n",
              "      <td>0</td>\n",
              "      <td>51</td>\n",
              "      <td>31.99</td>\n",
              "      <td>24.26</td>\n",
              "      <td>58</td>\n",
              "      <td>1</td>\n",
              "    </tr>\n",
              "    <tr>\n",
              "      <th>4</th>\n",
              "      <td>134</td>\n",
              "      <td>13.60</td>\n",
              "      <td>3.50</td>\n",
              "      <td>27.78</td>\n",
              "      <td>0</td>\n",
              "      <td>60</td>\n",
              "      <td>25.99</td>\n",
              "      <td>57.34</td>\n",
              "      <td>49</td>\n",
              "      <td>1</td>\n",
              "    </tr>\n",
              "    <tr>\n",
              "      <th>...</th>\n",
              "      <td>...</td>\n",
              "      <td>...</td>\n",
              "      <td>...</td>\n",
              "      <td>...</td>\n",
              "      <td>...</td>\n",
              "      <td>...</td>\n",
              "      <td>...</td>\n",
              "      <td>...</td>\n",
              "      <td>...</td>\n",
              "      <td>...</td>\n",
              "    </tr>\n",
              "    <tr>\n",
              "      <th>457</th>\n",
              "      <td>214</td>\n",
              "      <td>0.40</td>\n",
              "      <td>5.98</td>\n",
              "      <td>31.72</td>\n",
              "      <td>1</td>\n",
              "      <td>64</td>\n",
              "      <td>28.45</td>\n",
              "      <td>0.00</td>\n",
              "      <td>58</td>\n",
              "      <td>0</td>\n",
              "    </tr>\n",
              "    <tr>\n",
              "      <th>458</th>\n",
              "      <td>182</td>\n",
              "      <td>4.20</td>\n",
              "      <td>4.41</td>\n",
              "      <td>32.10</td>\n",
              "      <td>1</td>\n",
              "      <td>52</td>\n",
              "      <td>28.61</td>\n",
              "      <td>18.72</td>\n",
              "      <td>52</td>\n",
              "      <td>1</td>\n",
              "    </tr>\n",
              "    <tr>\n",
              "      <th>459</th>\n",
              "      <td>108</td>\n",
              "      <td>3.00</td>\n",
              "      <td>1.59</td>\n",
              "      <td>15.23</td>\n",
              "      <td>1</td>\n",
              "      <td>40</td>\n",
              "      <td>20.09</td>\n",
              "      <td>26.64</td>\n",
              "      <td>55</td>\n",
              "      <td>0</td>\n",
              "    </tr>\n",
              "    <tr>\n",
              "      <th>460</th>\n",
              "      <td>118</td>\n",
              "      <td>5.40</td>\n",
              "      <td>11.61</td>\n",
              "      <td>30.79</td>\n",
              "      <td>1</td>\n",
              "      <td>64</td>\n",
              "      <td>27.35</td>\n",
              "      <td>23.97</td>\n",
              "      <td>40</td>\n",
              "      <td>0</td>\n",
              "    </tr>\n",
              "    <tr>\n",
              "      <th>461</th>\n",
              "      <td>132</td>\n",
              "      <td>0.00</td>\n",
              "      <td>4.82</td>\n",
              "      <td>33.41</td>\n",
              "      <td>0</td>\n",
              "      <td>62</td>\n",
              "      <td>14.70</td>\n",
              "      <td>0.00</td>\n",
              "      <td>46</td>\n",
              "      <td>1</td>\n",
              "    </tr>\n",
              "  </tbody>\n",
              "</table>\n",
              "<p>462 rows × 10 columns</p>\n",
              "</div>"
            ],
            "text/plain": [
              "     sbp  Tabaco    ldl  Adiposity  ...  Obesidad  Alcohol  Edad  Etiqueta\n",
              "0    160   12.00   5.73      23.11  ...     25.30    97.20    52         1\n",
              "1    144    0.01   4.41      28.61  ...     28.87     2.06    63         1\n",
              "2    118    0.08   3.48      32.28  ...     29.14     3.81    46         0\n",
              "3    170    7.50   6.41      38.03  ...     31.99    24.26    58         1\n",
              "4    134   13.60   3.50      27.78  ...     25.99    57.34    49         1\n",
              "..   ...     ...    ...        ...  ...       ...      ...   ...       ...\n",
              "457  214    0.40   5.98      31.72  ...     28.45     0.00    58         0\n",
              "458  182    4.20   4.41      32.10  ...     28.61    18.72    52         1\n",
              "459  108    3.00   1.59      15.23  ...     20.09    26.64    55         0\n",
              "460  118    5.40  11.61      30.79  ...     27.35    23.97    40         0\n",
              "461  132    0.00   4.82      33.41  ...     14.70     0.00    46         1\n",
              "\n",
              "[462 rows x 10 columns]"
            ]
          },
          "metadata": {
            "tags": []
          },
          "execution_count": 3
        }
      ]
    },
    {
      "cell_type": "markdown",
      "metadata": {
        "id": "hP-cS_Oyf1sA"
      },
      "source": [
        "##  0 = persona que no sufre del corazon\r\n",
        "##  1 = persona que sufre del corazon"
      ]
    },
    {
      "cell_type": "code",
      "metadata": {
        "id": "6DJK8_gOQElz",
        "colab": {
          "base_uri": "https://localhost:8080/",
          "height": 419
        },
        "outputId": "1449cc02-b0e8-4393-e631-49e84fd3e648"
      },
      "source": [
        "#Escalamos los valores de la columna sbp\r\n",
        "from sklearn.preprocessing import MinMaxScaler\r\n",
        "scale = MinMaxScaler(feature_range =(0,100))\r\n",
        "data['sbp'] = scale.fit_transform(data['sbp'].values.reshape(-1,1))\r\n",
        "data"
      ],
      "execution_count": 4,
      "outputs": [
        {
          "output_type": "execute_result",
          "data": {
            "text/html": [
              "<div>\n",
              "<style scoped>\n",
              "    .dataframe tbody tr th:only-of-type {\n",
              "        vertical-align: middle;\n",
              "    }\n",
              "\n",
              "    .dataframe tbody tr th {\n",
              "        vertical-align: top;\n",
              "    }\n",
              "\n",
              "    .dataframe thead th {\n",
              "        text-align: right;\n",
              "    }\n",
              "</style>\n",
              "<table border=\"1\" class=\"dataframe\">\n",
              "  <thead>\n",
              "    <tr style=\"text-align: right;\">\n",
              "      <th></th>\n",
              "      <th>sbp</th>\n",
              "      <th>Tabaco</th>\n",
              "      <th>ldl</th>\n",
              "      <th>Adiposity</th>\n",
              "      <th>Familia</th>\n",
              "      <th>Tipo</th>\n",
              "      <th>Obesidad</th>\n",
              "      <th>Alcohol</th>\n",
              "      <th>Edad</th>\n",
              "      <th>Etiqueta</th>\n",
              "    </tr>\n",
              "  </thead>\n",
              "  <tbody>\n",
              "    <tr>\n",
              "      <th>0</th>\n",
              "      <td>50.427350</td>\n",
              "      <td>12.00</td>\n",
              "      <td>5.73</td>\n",
              "      <td>23.11</td>\n",
              "      <td>0</td>\n",
              "      <td>49</td>\n",
              "      <td>25.30</td>\n",
              "      <td>97.20</td>\n",
              "      <td>52</td>\n",
              "      <td>1</td>\n",
              "    </tr>\n",
              "    <tr>\n",
              "      <th>1</th>\n",
              "      <td>36.752137</td>\n",
              "      <td>0.01</td>\n",
              "      <td>4.41</td>\n",
              "      <td>28.61</td>\n",
              "      <td>1</td>\n",
              "      <td>55</td>\n",
              "      <td>28.87</td>\n",
              "      <td>2.06</td>\n",
              "      <td>63</td>\n",
              "      <td>1</td>\n",
              "    </tr>\n",
              "    <tr>\n",
              "      <th>2</th>\n",
              "      <td>14.529915</td>\n",
              "      <td>0.08</td>\n",
              "      <td>3.48</td>\n",
              "      <td>32.28</td>\n",
              "      <td>0</td>\n",
              "      <td>52</td>\n",
              "      <td>29.14</td>\n",
              "      <td>3.81</td>\n",
              "      <td>46</td>\n",
              "      <td>0</td>\n",
              "    </tr>\n",
              "    <tr>\n",
              "      <th>3</th>\n",
              "      <td>58.974359</td>\n",
              "      <td>7.50</td>\n",
              "      <td>6.41</td>\n",
              "      <td>38.03</td>\n",
              "      <td>0</td>\n",
              "      <td>51</td>\n",
              "      <td>31.99</td>\n",
              "      <td>24.26</td>\n",
              "      <td>58</td>\n",
              "      <td>1</td>\n",
              "    </tr>\n",
              "    <tr>\n",
              "      <th>4</th>\n",
              "      <td>28.205128</td>\n",
              "      <td>13.60</td>\n",
              "      <td>3.50</td>\n",
              "      <td>27.78</td>\n",
              "      <td>0</td>\n",
              "      <td>60</td>\n",
              "      <td>25.99</td>\n",
              "      <td>57.34</td>\n",
              "      <td>49</td>\n",
              "      <td>1</td>\n",
              "    </tr>\n",
              "    <tr>\n",
              "      <th>...</th>\n",
              "      <td>...</td>\n",
              "      <td>...</td>\n",
              "      <td>...</td>\n",
              "      <td>...</td>\n",
              "      <td>...</td>\n",
              "      <td>...</td>\n",
              "      <td>...</td>\n",
              "      <td>...</td>\n",
              "      <td>...</td>\n",
              "      <td>...</td>\n",
              "    </tr>\n",
              "    <tr>\n",
              "      <th>457</th>\n",
              "      <td>96.581197</td>\n",
              "      <td>0.40</td>\n",
              "      <td>5.98</td>\n",
              "      <td>31.72</td>\n",
              "      <td>1</td>\n",
              "      <td>64</td>\n",
              "      <td>28.45</td>\n",
              "      <td>0.00</td>\n",
              "      <td>58</td>\n",
              "      <td>0</td>\n",
              "    </tr>\n",
              "    <tr>\n",
              "      <th>458</th>\n",
              "      <td>69.230769</td>\n",
              "      <td>4.20</td>\n",
              "      <td>4.41</td>\n",
              "      <td>32.10</td>\n",
              "      <td>1</td>\n",
              "      <td>52</td>\n",
              "      <td>28.61</td>\n",
              "      <td>18.72</td>\n",
              "      <td>52</td>\n",
              "      <td>1</td>\n",
              "    </tr>\n",
              "    <tr>\n",
              "      <th>459</th>\n",
              "      <td>5.982906</td>\n",
              "      <td>3.00</td>\n",
              "      <td>1.59</td>\n",
              "      <td>15.23</td>\n",
              "      <td>1</td>\n",
              "      <td>40</td>\n",
              "      <td>20.09</td>\n",
              "      <td>26.64</td>\n",
              "      <td>55</td>\n",
              "      <td>0</td>\n",
              "    </tr>\n",
              "    <tr>\n",
              "      <th>460</th>\n",
              "      <td>14.529915</td>\n",
              "      <td>5.40</td>\n",
              "      <td>11.61</td>\n",
              "      <td>30.79</td>\n",
              "      <td>1</td>\n",
              "      <td>64</td>\n",
              "      <td>27.35</td>\n",
              "      <td>23.97</td>\n",
              "      <td>40</td>\n",
              "      <td>0</td>\n",
              "    </tr>\n",
              "    <tr>\n",
              "      <th>461</th>\n",
              "      <td>26.495726</td>\n",
              "      <td>0.00</td>\n",
              "      <td>4.82</td>\n",
              "      <td>33.41</td>\n",
              "      <td>0</td>\n",
              "      <td>62</td>\n",
              "      <td>14.70</td>\n",
              "      <td>0.00</td>\n",
              "      <td>46</td>\n",
              "      <td>1</td>\n",
              "    </tr>\n",
              "  </tbody>\n",
              "</table>\n",
              "<p>462 rows × 10 columns</p>\n",
              "</div>"
            ],
            "text/plain": [
              "           sbp  Tabaco    ldl  Adiposity  ...  Obesidad  Alcohol  Edad  Etiqueta\n",
              "0    50.427350   12.00   5.73      23.11  ...     25.30    97.20    52         1\n",
              "1    36.752137    0.01   4.41      28.61  ...     28.87     2.06    63         1\n",
              "2    14.529915    0.08   3.48      32.28  ...     29.14     3.81    46         0\n",
              "3    58.974359    7.50   6.41      38.03  ...     31.99    24.26    58         1\n",
              "4    28.205128   13.60   3.50      27.78  ...     25.99    57.34    49         1\n",
              "..         ...     ...    ...        ...  ...       ...      ...   ...       ...\n",
              "457  96.581197    0.40   5.98      31.72  ...     28.45     0.00    58         0\n",
              "458  69.230769    4.20   4.41      32.10  ...     28.61    18.72    52         1\n",
              "459   5.982906    3.00   1.59      15.23  ...     20.09    26.64    55         0\n",
              "460  14.529915    5.40  11.61      30.79  ...     27.35    23.97    40         0\n",
              "461  26.495726    0.00   4.82      33.41  ...     14.70     0.00    46         1\n",
              "\n",
              "[462 rows x 10 columns]"
            ]
          },
          "metadata": {
            "tags": []
          },
          "execution_count": 4
        }
      ]
    },
    {
      "cell_type": "code",
      "metadata": {
        "id": "Ls6pYZfMQKZ7",
        "colab": {
          "base_uri": "https://localhost:8080/",
          "height": 374
        },
        "outputId": "04a29f4b-62a1-46e3-97a4-a71a2329b5ee"
      },
      "source": [
        "#Visualizar la obesidad de acuerdo a la edad\r\n",
        "import seaborn as sns\r\n",
        "g=sns.pairplot(data,vars=['Edad','Obesidad'],hue='Etiqueta')"
      ],
      "execution_count": 5,
      "outputs": [
        {
          "output_type": "display_data",
          "data": {
            "image/png": "[encoded data removed]",
            "text/plain": [
              "<Figure size 409.875x360 with 6 Axes>"
            ]
          },
          "metadata": {
            "tags": [],
            "needs_background": "light"
          }
        }
      ]
    },
    {
      "cell_type": "code",
      "metadata": {
        "colab": {
          "base_uri": "https://localhost:8080/",
          "height": 374
        },
        "id": "a4T0uxYVkZeN",
        "outputId": "ed7e7b0f-3c82-4ba5-9dee-d0b3b83fece2"
      },
      "source": [
        "g=sns.pairplot(data,vars=['Edad','Familia'],hue='Etiqueta')"
      ],
      "execution_count": 39,
      "outputs": [
        {
          "output_type": "display_data",
          "data": {
            "image/png": "[encoded data removed]",
            "text/plain": [
              "<Figure size 409.875x360 with 6 Axes>"
            ]
          },
          "metadata": {
            "tags": [],
            "needs_background": "light"
          }
        }
      ]
    },
    {
      "cell_type": "code",
      "metadata": {
        "id": "2mbPgEvNQNxL",
        "colab": {
          "base_uri": "https://localhost:8080/",
          "height": 374
        },
        "outputId": "f08b1577-52b2-451e-e033-034cf961f87c"
      },
      "source": [
        "#Visualizar el consumo de tabaco de acuerdo a la edad\r\n",
        "g=sns.pairplot(data,vars=['Edad','Tabaco'],hue='Etiqueta')"
      ],
      "execution_count": 6,
      "outputs": [
        {
          "output_type": "display_data",
          "data": {
            "image/png": "[encoded data removed]",
            "text/plain": [
              "<Figure size 409.875x360 with 6 Axes>"
            ]
          },
          "metadata": {
            "tags": [],
            "needs_background": "light"
          }
        }
      ]
    },
    {
      "cell_type": "code",
      "metadata": {
        "id": "w8pddzPpQPMz",
        "colab": {
          "base_uri": "https://localhost:8080/",
          "height": 374
        },
        "outputId": "eb8f31f4-f57c-4336-d382-42145d792a5c"
      },
      "source": [
        "#Visualizar el consumo de alcohol de acuerdo a la edad\r\n",
        "g=sns.pairplot(data,vars=['Edad','Alcohol'],hue='Etiqueta')"
      ],
      "execution_count": 7,
      "outputs": [
        {
          "output_type": "display_data",
          "data": {
            "image/png": "[encoded data removed]",
            "text/plain": [
              "<Figure size 409.875x360 with 6 Axes>"
            ]
          },
          "metadata": {
            "tags": [],
            "needs_background": "light"
          }
        }
      ]
    },
    {
      "cell_type": "markdown",
      "metadata": {
        "id": "vnPwKpqWS4E7"
      },
      "source": [
        "## Clasificador SVM (variando el porcentaje de entrenamiento)\r\n",
        "Entrenando con el 25%:"
      ]
    },
    {
      "cell_type": "code",
      "metadata": {
        "id": "NI3JfxO8QUUb",
        "colab": {
          "base_uri": "https://localhost:8080/"
        },
        "outputId": "ff1add90-73fa-4caf-99e0-22aeb4e88b6e"
      },
      "source": [
        "### ANÁLISIS DE MACHINE LEARNING ###\r\n",
        "from sklearn.model_selection import train_test_split\r\n",
        "from sklearn.metrics import confusion_matrix\r\n",
        "from sklearn.metrics import accuracy_score, precision_score\r\n",
        "from sklearn import svm\r\n",
        "\r\n",
        "#Definir las variable dependiente e independientes\r\n",
        "y = data['Etiqueta']\r\n",
        "X = data.drop('Etiqueta', axis =1)\r\n",
        "#Separar los datos de entrenamiento y prueba\r\n",
        "X_train, X_test, y_train, y_test = train_test_split(X, y, test_size = 0.75, random_state=123)\r\n",
        "#Definir el algoritmo\r\n",
        "algoritmo = svm.SVC(kernel ='linear')\r\n",
        "#Entrenar el algoritmo\r\n",
        "algoritmo.fit(X_train, y_train)\r\n",
        "#Realizar una predicción\r\n",
        "y_test_pred = algoritmo.predict(X_test)\r\n",
        "#Se calcula la matriz de confusión\r\n",
        "print(confusion_matrix(y_test, y_test_pred))\r\n",
        "#Se calcula la exactitud y precisión del modelo\r\n",
        "print('Exactitud:',accuracy_score(y_test, y_test_pred))\r\n",
        "print('Precision:',precision_score(y_test, y_test_pred))\r\n",
        "print(data.shape)\r\n",
        "\r\n",
        "from sklearn.metrics import classification_report\r\n",
        "print(classification_report(y_test, y_test_pred))"
      ],
      "execution_count": 18,
      "outputs": [
        {
          "output_type": "stream",
          "text": [
            "[[187  43]\n",
            " [ 55  62]]\n",
            "Exactitud: 0.7175792507204611\n",
            "Precision: 0.5904761904761905\n",
            "(462, 10)\n",
            "              precision    recall  f1-score   support\n",
            "\n",
            "           0       0.77      0.81      0.79       230\n",
            "           1       0.59      0.53      0.56       117\n",
            "\n",
            "    accuracy                           0.72       347\n",
            "   macro avg       0.68      0.67      0.68       347\n",
            "weighted avg       0.71      0.72      0.71       347\n",
            "\n"
          ],
          "name": "stdout"
        }
      ]
    },
    {
      "cell_type": "markdown",
      "metadata": {
        "id": "AxWdPvNZTUaJ"
      },
      "source": [
        "Entrenando con el 50%"
      ]
    },
    {
      "cell_type": "code",
      "metadata": {
        "colab": {
          "base_uri": "https://localhost:8080/"
        },
        "id": "eEehTx_dTTwd",
        "outputId": "275c5e9d-fdb8-456f-db5b-2293a60691ec"
      },
      "source": [
        "X_train, X_test, y_train, y_test = train_test_split(X, y, test_size = 0.50, random_state=123)\r\n",
        "#Definir el algoritmo\r\n",
        "algoritmo = svm.SVC(kernel ='linear')\r\n",
        "#Entrenar el algoritmo\r\n",
        "algoritmo.fit(X_train, y_train)\r\n",
        "#Realizar una predicción\r\n",
        "y_test_pred = algoritmo.predict(X_test)\r\n",
        "#Se calcula la matriz de confusión\r\n",
        "print(confusion_matrix(y_test, y_test_pred))\r\n",
        "#Se calcula la exactitud y precisión del modelo\r\n",
        "print('Exactitud:',accuracy_score(y_test, y_test_pred))\r\n",
        "print('Precision:',precision_score(y_test, y_test_pred))\r\n",
        "print(data.shape)\r\n",
        "\r\n",
        "from sklearn.metrics import classification_report\r\n",
        "print(classification_report(y_test, y_test_pred))"
      ],
      "execution_count": 19,
      "outputs": [
        {
          "output_type": "stream",
          "text": [
            "[[123  23]\n",
            " [ 49  36]]\n",
            "Exactitud: 0.6883116883116883\n",
            "Precision: 0.6101694915254238\n",
            "(462, 10)\n",
            "              precision    recall  f1-score   support\n",
            "\n",
            "           0       0.72      0.84      0.77       146\n",
            "           1       0.61      0.42      0.50        85\n",
            "\n",
            "    accuracy                           0.69       231\n",
            "   macro avg       0.66      0.63      0.64       231\n",
            "weighted avg       0.68      0.69      0.67       231\n",
            "\n"
          ],
          "name": "stdout"
        }
      ]
    },
    {
      "cell_type": "markdown",
      "metadata": {
        "id": "j7g5QFmRTdHR"
      },
      "source": [
        "Entrenando con 80%\r\n",
        "\r\n"
      ]
    },
    {
      "cell_type": "code",
      "metadata": {
        "colab": {
          "base_uri": "https://localhost:8080/"
        },
        "id": "LnXm2brpTegh",
        "outputId": "dc1d226e-df52-480a-8d94-00097d2e5e84"
      },
      "source": [
        "X_train, X_test, y_train, y_test = train_test_split(X, y, test_size = 0.20, random_state=123)\r\n",
        "#Definir el algoritmo\r\n",
        "algoritmo = svm.SVC(kernel ='linear')\r\n",
        "#Entrenar el algoritmo\r\n",
        "algoritmo.fit(X_train, y_train)\r\n",
        "#Realizar una predicción\r\n",
        "y_test_pred = algoritmo.predict(X_test)\r\n",
        "#Se calcula la matriz de confusión\r\n",
        "print(confusion_matrix(y_test, y_test_pred))\r\n",
        "#Se calcula la exactitud y precisión del modelo\r\n",
        "print('Exactitud:',accuracy_score(y_test, y_test_pred))\r\n",
        "print('Precision:',precision_score(y_test, y_test_pred))\r\n",
        "print(data.shape)\r\n",
        "\r\n",
        "from sklearn.metrics import classification_report\r\n",
        "print(classification_report(y_test, y_test_pred))"
      ],
      "execution_count": 23,
      "outputs": [
        {
          "output_type": "stream",
          "text": [
            "[[50 10]\n",
            " [13 20]]\n",
            "Exactitud: 0.7526881720430108\n",
            "Precision: 0.6666666666666666\n",
            "(462, 10)\n",
            "              precision    recall  f1-score   support\n",
            "\n",
            "           0       0.79      0.83      0.81        60\n",
            "           1       0.67      0.61      0.63        33\n",
            "\n",
            "    accuracy                           0.75        93\n",
            "   macro avg       0.73      0.72      0.72        93\n",
            "weighted avg       0.75      0.75      0.75        93\n",
            "\n"
          ],
          "name": "stdout"
        }
      ]
    },
    {
      "cell_type": "markdown",
      "metadata": {
        "id": "9--1mpINT5xn"
      },
      "source": [
        "## Clasificador GaussianNB (variando el porcentaje de entrenamiento)\r\n",
        "Entrenando con el 25%:"
      ]
    },
    {
      "cell_type": "code",
      "metadata": {
        "colab": {
          "base_uri": "https://localhost:8080/"
        },
        "id": "bzQRxMjuOd-I",
        "outputId": "8b912415-c2ea-4963-d3ce-7d5284b5606a"
      },
      "source": [
        "from sklearn.naive_bayes import GaussianNB\r\n",
        "\r\n",
        "#Separar los datos de entrenamiento y prueba\r\n",
        "X_train, X_test, y_train, y_test = train_test_split(X, y, test_size = 0.75, random_state=123)\r\n",
        "#Definir el algoritmo\r\n",
        "algoritmo = GaussianNB()\r\n",
        "#Entrenar el algoritmo\r\n",
        "algoritmo.fit(X_train, y_train)\r\n",
        "#Realizar una predicción\r\n",
        "y_test_pred = algoritmo.predict(X_test)\r\n",
        "#Se calcula la matriz de confusión\r\n",
        "print(confusion_matrix(y_test, y_test_pred))\r\n",
        "#Se calcula la exactitud y precisión del modelo\r\n",
        "print('Exactitud:',accuracy_score(y_test, y_test_pred))\r\n",
        "print('Precision:',precision_score(y_test, y_test_pred))\r\n",
        "print(data.shape)\r\n",
        "\r\n",
        "from sklearn.metrics import classification_report\r\n",
        "print(classification_report(y_test, y_test_pred))"
      ],
      "execution_count": 24,
      "outputs": [
        {
          "output_type": "stream",
          "text": [
            "[[164  66]\n",
            " [ 37  80]]\n",
            "Exactitud: 0.7031700288184438\n",
            "Precision: 0.547945205479452\n",
            "(462, 10)\n",
            "              precision    recall  f1-score   support\n",
            "\n",
            "           0       0.82      0.71      0.76       230\n",
            "           1       0.55      0.68      0.61       117\n",
            "\n",
            "    accuracy                           0.70       347\n",
            "   macro avg       0.68      0.70      0.68       347\n",
            "weighted avg       0.73      0.70      0.71       347\n",
            "\n"
          ],
          "name": "stdout"
        }
      ]
    },
    {
      "cell_type": "markdown",
      "metadata": {
        "id": "zZswXRovUHVi"
      },
      "source": [
        "Entrenando con el 50%"
      ]
    },
    {
      "cell_type": "code",
      "metadata": {
        "colab": {
          "base_uri": "https://localhost:8080/"
        },
        "id": "vhXgP1jDUG9g",
        "outputId": "77e2a7d0-8572-460a-b94b-f4be85cb2e3e"
      },
      "source": [
        "#Separar los datos de entrenamiento y prueba\r\n",
        "X_train, X_test, y_train, y_test = train_test_split(X, y, test_size = 0.50, random_state=123)\r\n",
        "#Definir el algoritmo\r\n",
        "algoritmo = GaussianNB()\r\n",
        "#Entrenar el algoritmo\r\n",
        "algoritmo.fit(X_train, y_train)\r\n",
        "#Realizar una predicción\r\n",
        "y_test_pred = algoritmo.predict(X_test)\r\n",
        "#Se calcula la matriz de confusión\r\n",
        "print(confusion_matrix(y_test, y_test_pred))\r\n",
        "#Se calcula la exactitud y precisión del modelo\r\n",
        "print('Exactitud:',accuracy_score(y_test, y_test_pred))\r\n",
        "print('Precision:',precision_score(y_test, y_test_pred))\r\n",
        "print(data.shape)\r\n",
        "\r\n",
        "from sklearn.metrics import classification_report\r\n",
        "print(classification_report(y_test, y_test_pred))"
      ],
      "execution_count": 25,
      "outputs": [
        {
          "output_type": "stream",
          "text": [
            "[[111  35]\n",
            " [ 31  54]]\n",
            "Exactitud: 0.7142857142857143\n",
            "Precision: 0.6067415730337079\n",
            "(462, 10)\n",
            "              precision    recall  f1-score   support\n",
            "\n",
            "           0       0.78      0.76      0.77       146\n",
            "           1       0.61      0.64      0.62        85\n",
            "\n",
            "    accuracy                           0.71       231\n",
            "   macro avg       0.69      0.70      0.70       231\n",
            "weighted avg       0.72      0.71      0.72       231\n",
            "\n"
          ],
          "name": "stdout"
        }
      ]
    },
    {
      "cell_type": "markdown",
      "metadata": {
        "id": "lTDUMLmLUQDy"
      },
      "source": [
        "Entrenando con el 80%"
      ]
    },
    {
      "cell_type": "code",
      "metadata": {
        "colab": {
          "base_uri": "https://localhost:8080/"
        },
        "id": "9h7oB08UUPm0",
        "outputId": "d2083ce4-0295-4ccc-dc85-9686fc0f3d83"
      },
      "source": [
        "#Separar los datos de entrenamiento y prueba\r\n",
        "X_train, X_test, y_train, y_test = train_test_split(X, y, test_size = 0.20, random_state=123)\r\n",
        "#Definir el algoritmo\r\n",
        "algoritmo = GaussianNB()\r\n",
        "#Entrenar el algoritmo\r\n",
        "algoritmo.fit(X_train, y_train)\r\n",
        "#Realizar una predicción\r\n",
        "y_test_pred = algoritmo.predict(X_test)\r\n",
        "#Se calcula la matriz de confusión\r\n",
        "print(confusion_matrix(y_test, y_test_pred))\r\n",
        "#Se calcula la exactitud y precisión del modelo\r\n",
        "print('Exactitud:',accuracy_score(y_test, y_test_pred))\r\n",
        "print('Precision:',precision_score(y_test, y_test_pred))\r\n",
        "print(data.shape)\r\n",
        "\r\n",
        "from sklearn.metrics import classification_report\r\n",
        "print(classification_report(y_test, y_test_pred))"
      ],
      "execution_count": 29,
      "outputs": [
        {
          "output_type": "stream",
          "text": [
            "[[43 17]\n",
            " [ 8 25]]\n",
            "Exactitud: 0.7311827956989247\n",
            "Precision: 0.5952380952380952\n",
            "(462, 10)\n",
            "              precision    recall  f1-score   support\n",
            "\n",
            "           0       0.84      0.72      0.77        60\n",
            "           1       0.60      0.76      0.67        33\n",
            "\n",
            "    accuracy                           0.73        93\n",
            "   macro avg       0.72      0.74      0.72        93\n",
            "weighted avg       0.76      0.73      0.74        93\n",
            "\n"
          ],
          "name": "stdout"
        }
      ]
    },
    {
      "cell_type": "markdown",
      "metadata": {
        "id": "Kfs4xekDUiCC"
      },
      "source": [
        "## Clasificador Logistic Regression (variando el porcentaje de entrenamiento)\r\n",
        "Entrenando con el 25%:"
      ]
    },
    {
      "cell_type": "code",
      "metadata": {
        "colab": {
          "base_uri": "https://localhost:8080/"
        },
        "id": "jtZBAuqMPUSm",
        "outputId": "be100a78-fcbe-4cb3-b468-233e22b5071f"
      },
      "source": [
        "from  sklearn.linear_model import LogisticRegression\r\n",
        "X_train, X_test, y_train, y_test = train_test_split(X, y, test_size = 0.75, random_state=123)\r\n",
        "algoritmo = LogisticRegression()\r\n",
        "#Entrenar el algoritmo\r\n",
        "algoritmo.fit(X_train, y_train)\r\n",
        "#Realizar una predicción\r\n",
        "y_test_pred = algoritmo.predict(X_test)\r\n",
        "#Se calcula la matriz de confusión\r\n",
        "print(confusion_matrix(y_test, y_test_pred))\r\n",
        "#Se calcula la exactitud y precisión del modelo\r\n",
        "print('Exactitud:',accuracy_score(y_test, y_test_pred))\r\n",
        "print('Precision:',precision_score(y_test, y_test_pred))\r\n",
        "print(data.shape)\r\n",
        "\r\n",
        "from sklearn.metrics import classification_report\r\n",
        "print(classification_report(y_test, y_test_pred))"
      ],
      "execution_count": 27,
      "outputs": [
        {
          "output_type": "stream",
          "text": [
            "[[183  47]\n",
            " [ 52  65]]\n",
            "Exactitud: 0.7146974063400576\n",
            "Precision: 0.5803571428571429\n",
            "(462, 10)\n",
            "              precision    recall  f1-score   support\n",
            "\n",
            "           0       0.78      0.80      0.79       230\n",
            "           1       0.58      0.56      0.57       117\n",
            "\n",
            "    accuracy                           0.71       347\n",
            "   macro avg       0.68      0.68      0.68       347\n",
            "weighted avg       0.71      0.71      0.71       347\n",
            "\n"
          ],
          "name": "stdout"
        },
        {
          "output_type": "stream",
          "text": [
            "/usr/local/lib/python3.6/dist-packages/sklearn/linear_model/_logistic.py:940: ConvergenceWarning: lbfgs failed to converge (status=1):\n",
            "STOP: TOTAL NO. of ITERATIONS REACHED LIMIT.\n",
            "\n",
            "Increase the number of iterations (max_iter) or scale the data as shown in:\n",
            "    https://scikit-learn.org/stable/modules/preprocessing.html\n",
            "Please also refer to the documentation for alternative solver options:\n",
            "    https://scikit-learn.org/stable/modules/linear_model.html#logistic-regression\n",
            "  extra_warning_msg=_LOGISTIC_SOLVER_CONVERGENCE_MSG)\n"
          ],
          "name": "stderr"
        }
      ]
    },
    {
      "cell_type": "markdown",
      "metadata": {
        "id": "o5ARkKH7UvKe"
      },
      "source": [
        "Entrenando con el 50%\r\n"
      ]
    },
    {
      "cell_type": "code",
      "metadata": {
        "colab": {
          "base_uri": "https://localhost:8080/"
        },
        "id": "hlUzZGjDUwAy",
        "outputId": "8db76f0b-46d9-405b-bc9b-db72a373ba08"
      },
      "source": [
        "X_train, X_test, y_train, y_test = train_test_split(X, y, test_size = 0.50, random_state=123)\r\n",
        "algoritmo = LogisticRegression()\r\n",
        "#Entrenar el algoritmo\r\n",
        "algoritmo.fit(X_train, y_train)\r\n",
        "#Realizar una predicción\r\n",
        "y_test_pred = algoritmo.predict(X_test)\r\n",
        "#Se calcula la matriz de confusión\r\n",
        "print(confusion_matrix(y_test, y_test_pred))\r\n",
        "#Se calcula la exactitud y precisión del modelo\r\n",
        "print('Exactitud:',accuracy_score(y_test, y_test_pred))\r\n",
        "print('Precision:',precision_score(y_test, y_test_pred))\r\n",
        "print(data.shape)\r\n",
        "\r\n",
        "from sklearn.metrics import classification_report\r\n",
        "print(classification_report(y_test, y_test_pred))"
      ],
      "execution_count": 28,
      "outputs": [
        {
          "output_type": "stream",
          "text": [
            "[[125  21]\n",
            " [ 47  38]]\n",
            "Exactitud: 0.7056277056277056\n",
            "Precision: 0.6440677966101694\n",
            "(462, 10)\n",
            "              precision    recall  f1-score   support\n",
            "\n",
            "           0       0.73      0.86      0.79       146\n",
            "           1       0.64      0.45      0.53        85\n",
            "\n",
            "    accuracy                           0.71       231\n",
            "   macro avg       0.69      0.65      0.66       231\n",
            "weighted avg       0.70      0.71      0.69       231\n",
            "\n"
          ],
          "name": "stdout"
        },
        {
          "output_type": "stream",
          "text": [
            "/usr/local/lib/python3.6/dist-packages/sklearn/linear_model/_logistic.py:940: ConvergenceWarning: lbfgs failed to converge (status=1):\n",
            "STOP: TOTAL NO. of ITERATIONS REACHED LIMIT.\n",
            "\n",
            "Increase the number of iterations (max_iter) or scale the data as shown in:\n",
            "    https://scikit-learn.org/stable/modules/preprocessing.html\n",
            "Please also refer to the documentation for alternative solver options:\n",
            "    https://scikit-learn.org/stable/modules/linear_model.html#logistic-regression\n",
            "  extra_warning_msg=_LOGISTIC_SOLVER_CONVERGENCE_MSG)\n"
          ],
          "name": "stderr"
        }
      ]
    },
    {
      "cell_type": "markdown",
      "metadata": {
        "id": "ZuTrzEVdU7O-"
      },
      "source": [
        "Entrenando con el 80%"
      ]
    },
    {
      "cell_type": "code",
      "metadata": {
        "colab": {
          "base_uri": "https://localhost:8080/"
        },
        "id": "X3-5B05oU7w7",
        "outputId": "f3a3eec0-334f-4da7-d260-212fd65c58e9"
      },
      "source": [
        "X_train, X_test, y_train, y_test = train_test_split(X, y, test_size = 0.80, random_state=123)\r\n",
        "algoritmo = LogisticRegression()\r\n",
        "#Entrenar el algoritmo\r\n",
        "algoritmo.fit(X_train, y_train)\r\n",
        "#Realizar una predicción\r\n",
        "y_test_pred = algoritmo.predict(X_test)\r\n",
        "#Se calcula la matriz de confusión\r\n",
        "print(confusion_matrix(y_test, y_test_pred))\r\n",
        "#Se calcula la exactitud y precisión del modelo\r\n",
        "print('Exactitud:',accuracy_score(y_test, y_test_pred))\r\n",
        "print('Precision:',precision_score(y_test, y_test_pred))\r\n",
        "print(data.shape)\r\n",
        "\r\n",
        "from sklearn.metrics import classification_report\r\n",
        "print(classification_report(y_test, y_test_pred))"
      ],
      "execution_count": 36,
      "outputs": [
        {
          "output_type": "stream",
          "text": [
            "[[185  60]\n",
            " [ 64  61]]\n",
            "Exactitud: 0.6648648648648648\n",
            "Precision: 0.5041322314049587\n",
            "(462, 10)\n",
            "              precision    recall  f1-score   support\n",
            "\n",
            "           0       0.74      0.76      0.75       245\n",
            "           1       0.50      0.49      0.50       125\n",
            "\n",
            "    accuracy                           0.66       370\n",
            "   macro avg       0.62      0.62      0.62       370\n",
            "weighted avg       0.66      0.66      0.66       370\n",
            "\n"
          ],
          "name": "stdout"
        },
        {
          "output_type": "stream",
          "text": [
            "/usr/local/lib/python3.6/dist-packages/sklearn/linear_model/_logistic.py:940: ConvergenceWarning: lbfgs failed to converge (status=1):\n",
            "STOP: TOTAL NO. of ITERATIONS REACHED LIMIT.\n",
            "\n",
            "Increase the number of iterations (max_iter) or scale the data as shown in:\n",
            "    https://scikit-learn.org/stable/modules/preprocessing.html\n",
            "Please also refer to the documentation for alternative solver options:\n",
            "    https://scikit-learn.org/stable/modules/linear_model.html#logistic-regression\n",
            "  extra_warning_msg=_LOGISTIC_SOLVER_CONVERGENCE_MSG)\n"
          ],
          "name": "stderr"
        }
      ]
    },
    {
      "cell_type": "code",
      "metadata": {
        "id": "_GatF49OCvUS"
      },
      "source": [
        ""
      ],
      "execution_count": 11,
      "outputs": []
    }
  ]
}